{
 "cells": [
  {
   "cell_type": "code",
   "execution_count": 9,
   "metadata": {},
   "outputs": [],
   "source": [
    "sbox = (\n",
    "        (4, 10, 9, 2, 13, 8, 0, 14, 6, 11, 1, 12, 7, 15, 5, 3),\n",
    "        (14, 11, 4, 12, 6, 13, 15, 10, 2, 3, 8, 1, 0, 7, 5, 9),\n",
    "        (5, 8, 1, 13, 10, 3, 4, 2, 14, 15, 12, 7, 6, 0, 9, 11),\n",
    "        (7, 13, 10, 1, 0, 8, 9, 15, 14, 4, 6, 12, 11, 2, 5, 3),\n",
    "        (6, 12, 7, 1, 5, 15, 13, 8, 4, 10, 9, 14, 0, 3, 11, 2),\n",
    "        (4, 11, 10, 0, 7, 2, 1, 13, 3, 6, 8, 5, 9, 12, 15, 14),\n",
    "        (13, 11, 4, 1, 3, 15, 5, 9, 0, 10, 14, 7, 6, 8, 2, 12),\n",
    "        (1, 15, 13, 0, 5, 7, 10, 4, 9, 2, 3, 14, 6, 11, 8, 12),\n",
    "        )\n",
    "text = 0xdeadcafebeda0313\n",
    "key = 19313867402948313029866648204957124098313134590881238590123857510238313108576"
   ]
  },
  {
   "cell_type": "code",
   "execution_count": 2,
   "metadata": {},
   "outputs": [],
   "source": [
    "def encrypt(msg, key):\n",
    "    # Открытый текст сначала разбивается на две половины\n",
    "    # старшие биты — left_part, младшие биты — right_part\n",
    "    left_part = msg >> 32\n",
    "    right_part = msg & 0xFFFFFFFF\n",
    "    # Для генерации подключей исходный 256-битный ключ разбивается на восемь 32-битных блоков: K1…K8.\n",
    "    subkeys = [(key >> (32 * i)) & 0xFFFFFFFF for i in range(8)]\n",
    "    # Выполняем 32 рауда со своим подключом Ki\n",
    "    # Ключи K1…K24 являются циклическим повторением ключей K1…K8 (нумеруются от младших битов к старшим).\n",
    "    for i in range(24):\n",
    "        left_part, right_part = encrypt_round_cfb(left_part, right_part, subkeys[i % 8])\n",
    "    for i in range(8):\n",
    "        left_part, right_part = encrypt_round_cfb(left_part, right_part, subkeys[7 - i])\n",
    "    return (left_part << 32) | right_part # сливаем половинки вместе"
   ]
  },
  {
   "cell_type": "code",
   "execution_count": 3,
   "metadata": {},
   "outputs": [],
   "source": [
    "def encrypt_round_cfb(left_part, right_part, round_key):\n",
    "    return right_part, left_part ^ f(right_part, round_key) # xor и смена их местами"
   ]
  },
  {
   "cell_type": "code",
   "execution_count": 4,
   "metadata": {},
   "outputs": [],
   "source": [
    "def f(part, key):\n",
    "    temp = part ^ key #Складываем по модулю\n",
    "    output = 0\n",
    "    # Разбиваем по 4бита\n",
    "    # в результате sbox[i][j] где i-номер шага, j-значение 4битного куска i шага\n",
    "    # выходы всех восьми S-блоков объединяются в 32-битное слово\n",
    "    for i in range(8):\n",
    "        output |= ((sbox[i][(temp >> (4 * i)) & 0b1111]) << (4 * i))\n",
    "    # всё слово циклически сдвигается влево (к старшим разрядам) на 11 битов.\n",
    "    return ((output << 11) | (output >> (32 - 11))) & 0xFFFFFFFF"
   ]
  },
  {
   "cell_type": "code",
   "execution_count": 5,
   "metadata": {},
   "outputs": [],
   "source": [
    "def decrypt(msg, key):\n",
    "    # текст сначала разбивается на две половины\n",
    "    # старшие биты — left_part, младшие биты — right_part\n",
    "    left_part = msg >> 32\n",
    "    right_part = msg & 0xFFFFFFFF\n",
    "    # Для генерации подключей исходный 256-битный ключ разбивается на восемь 32-битных блоков: K1…K8.\n",
    "    subkeys = [(key >> (32 * i)) & 0xFFFFFFFF for i in range(8)]\n",
    "    # Выполняем 32 рауда со своим подключом Ki\n",
    "    # Ключи K1…K24 являются циклическим повторением ключей K1…K8 (нумеруются от младших битов к старшим).\n",
    "    # В порядке обратному порядку в шифровании \n",
    "    for i in range(8):\n",
    "        left_part, right_part = decrypt_round_cfb(left_part, right_part, subkeys[i])\n",
    "    for i in range(24):\n",
    "        left_part, right_part = decrypt_round_cfb(left_part, right_part, subkeys[(7 - i) % 8])\n",
    "    return (left_part << 32) | right_part #сливаем половинки вместе"
   ]
  },
  {
   "cell_type": "code",
   "execution_count": 6,
   "metadata": {},
   "outputs": [],
   "source": [
    "def decrypt_round_cfb(left_part, right_part, round_key):\n",
    "    return right_part ^ f(left_part, round_key), left_part # xor и смена их местами"
   ]
  },
  {
   "cell_type": "code",
   "execution_count": 10,
   "metadata": {},
   "outputs": [
    {
     "data": {
      "text/plain": [
       "(16045704242863407891, 1921941495089229986, 16045704242863407891, True)"
      ]
     },
     "execution_count": 10,
     "metadata": {},
     "output_type": "execute_result"
    }
   ],
   "source": [
    "encrypted = encrypt(text, key)\n",
    "decrypted = decrypt(encrypted, key)\n",
    "text, encrypted, decrypted, text==decrypted"
   ]
  }
 ],
 "metadata": {
  "kernelspec": {
   "display_name": "Python 3",
   "language": "python",
   "name": "python3"
  },
  "language_info": {
   "codemirror_mode": {
    "name": "ipython",
    "version": 3
   },
   "file_extension": ".py",
   "mimetype": "text/x-python",
   "name": "python",
   "nbconvert_exporter": "python",
   "pygments_lexer": "ipython3",
   "version": "3.9.2"
  }
 },
 "nbformat": 4,
 "nbformat_minor": 4
}
