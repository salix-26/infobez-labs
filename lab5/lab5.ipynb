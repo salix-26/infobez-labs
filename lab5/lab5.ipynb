{
 "cells": [
  {
   "cell_type": "code",
   "execution_count": 1,
   "metadata": {},
   "outputs": [],
   "source": [
    "class Point:\n",
    "    def __init__(self, x, y):\n",
    "        self.x = x\n",
    "        self.y = y\n",
    "    def __eq__(self, other):\n",
    "        if isinstance(other, Point):\n",
    "            return self.x == other.x and self.y == other.y\n",
    "        return False\n",
    "        \n",
    "a = 0\n",
    "b = -1\n",
    "c = 1\n",
    "modp = 751"
   ]
  },
  {
   "cell_type": "markdown",
   "metadata": {},
   "source": [
    "## Правило сложение точек элептической кривой\n",
    "\n",
    "$x_{3} = λ^2 - x_1 - x_2 (mod p) $\n",
    "\n",
    "$y_{3} = λ(x_1 - x_3) - y_1 (mod p) $"
   ]
  },
  {
   "cell_type": "code",
   "execution_count": 2,
   "metadata": {},
   "outputs": [],
   "source": [
    "def summ(p1: Point, p2: Point):\n",
    "    lambd = lam(p1, p2)\n",
    "    x = int((lambd * lambd - a - p1.x - p2.x) % modp)\n",
    "    y = int((lambd * (p1.x - x) - p1.y) % modp)\n",
    "    return Point(x, y)"
   ]
  },
  {
   "cell_type": "markdown",
   "metadata": {},
   "source": [
    "### Нахождение λ для сложения точек элептической кривой\n",
    "\n",
    "$λ = \\begin{cases} \n",
    "    \\frac{y_2 - y_1}{x_2 - x_1}, если P ≠ Q \\\\\n",
    "    \\frac{3x_1^2 + a}{2y_1}, если P = Q \n",
    "    \\end{cases}$\n"
   ]
  },
  {
   "cell_type": "code",
   "execution_count": 3,
   "metadata": {},
   "outputs": [],
   "source": [
    "def lam(p1: Point, p2: Point):\n",
    "    if(p1 == p2):\n",
    "        nom = 3 * p1.x * p1.x + 2 * a * p1.x + b\n",
    "        denom = 2 * p1.y\n",
    "    else:\n",
    "        nom = p2.y - p1.y\n",
    "        denom = p2.x - p1.x\n",
    "        \n",
    "    # Нахождение модульноего обратного числа\n",
    "    # \n",
    "    # Модульные обратные числа А (mod C) это A^-1 такое что\n",
    "    # (A * A^-1) ≡ 1 (mod C) или эквивалентное (A * A^-1) mod C = 1\n",
    "    for i in range(modp):\n",
    "        if ((denom * i) % modp == 1):\n",
    "            denom = i\n",
    "            break\n",
    "    return (nom * denom) % modp"
   ]
  },
  {
   "cell_type": "code",
   "execution_count": 4,
   "metadata": {},
   "outputs": [],
   "source": [
    "pointB = Point(179,275)\n",
    "k = [11,17,18,19,16,6,12,8,2]\n",
    "g = Point(0,1)\n",
    "text_points = [\n",
    "    Point(243, 664), # C\n",
    "    Point(236, 39),  # И\n",
    "    Point(238, 175), # М\n",
    "    Point(238, 175), # М\n",
    "    Point(234, 587), # Е\n",
    "    Point(247, 266), # Т\n",
    "    Point(243, 87),  # Р\n",
    "    Point(236, 39),  # И\n",
    "    Point(257, 458)  # Я\n",
    "]"
   ]
  },
  {
   "cell_type": "code",
   "execution_count": 5,
   "metadata": {
    "scrolled": true
   },
   "outputs": [
    {
     "name": "stdout",
     "output_type": "stream",
     "text": [
      "Cm = (179, 275), (383, 411) \n",
      "Cm = (440, 539), (229, 151) \n",
      "Cm = (618, 206), (466, 214) \n",
      "Cm = (568, 355), (156, 704) \n",
      "Cm = (72, 254), (564, 38) \n",
      "Cm = (725, 195), (145, 143) \n",
      "Cm = (286, 136), (176, 413) \n",
      "Cm = (346, 242), (12, 314) \n",
      "Cm = (188, 93), (275, 456) \n"
     ]
    }
   ],
   "source": [
    "i = 0\n",
    "for point in text_points:\n",
    "    prev_B = pointB\n",
    "    prev_G = g\n",
    "    for _ in range(k[i]-1):\n",
    "        prev_B = summ(pointB, prev_B)\n",
    "        prev_G = summ(g, prev_G)\n",
    "    result = summ(point, prev_B)\n",
    "    i+=1\n",
    "    \n",
    "    print(\"Cm = ({x1}, {y1}), ({x2}, {y2}) \".format(x1 = prev_G.x, y1 = prev_G.y, x2 = result.x, y2 = result.y))"
   ]
  }
 ],
 "metadata": {
  "kernelspec": {
   "display_name": "Python 3",
   "language": "python",
   "name": "python3"
  },
  "language_info": {
   "codemirror_mode": {
    "name": "ipython",
    "version": 3
   },
   "file_extension": ".py",
   "mimetype": "text/x-python",
   "name": "python",
   "nbconvert_exporter": "python",
   "pygments_lexer": "ipython3",
   "version": "3.9.2"
  }
 },
 "nbformat": 4,
 "nbformat_minor": 4
}
