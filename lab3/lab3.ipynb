{
 "cells": [
  {
   "cell_type": "code",
   "execution_count": 8,
   "metadata": {},
   "outputs": [],
   "source": [
    "class LRS:\n",
    "    def __init__(self, textbin, n, polynom):\n",
    "        self.bitlist = polynom\n",
    "        self.text = self._placetext(textbin, n+1)\n",
    "        \n",
    "    # выравнивание количество сиволом к количеству разрядов ЛРС    \n",
    "    def _placetext(self, textbin, n):\n",
    "        text = textbin[-n:]\n",
    "        if len(textbin) < n:\n",
    "            offset = n - len(textbin)\n",
    "            rtextbin = r = ''.join(reversed(textbin))\n",
    "            for i in range(offset):\n",
    "                revnext = r[i % len(r)]\n",
    "                text = revnext + self.text\n",
    "        return text\n",
    "    \n",
    "    # сдвиг вправо и добавление бита специальных разрядов регистра\n",
    "    def rotate(self):\n",
    "        g = self._f()\n",
    "        self.text = str(g) + self.text[:-1]\n",
    "        \n",
    "    # XOR на все специальные разряды регистра\n",
    "    def _f(self):\n",
    "        g = 0;\n",
    "        rtext = ''.join(reversed(self.text))\n",
    "        for b in self.bitlist:\n",
    "            value = int(rtext[b])\n",
    "            g = value ^ g\n",
    "        return g\n",
    "    \n",
    "    # получение значение по разряду\n",
    "    def i_bit(self, index):\n",
    "        rtext = ''.join(reversed(self.text))\n",
    "        return int(rtext[index])"
   ]
  },
  {
   "cell_type": "code",
   "execution_count": 10,
   "metadata": {},
   "outputs": [
    {
     "name": "stdout",
     "output_type": "stream",
     "text": [
      "фенербахче\n"
     ]
    }
   ],
   "source": [
    "# ввод текста для шифрования\n",
    "text = str(input())"
   ]
  },
  {
   "cell_type": "code",
   "execution_count": 17,
   "metadata": {},
   "outputs": [
    {
     "name": "stdout",
     "output_type": "stream",
     "text": [
      "Для слова \"фенербахче\" итоговым кодом будет \n",
      " 0000011110000111111000000000010000011111111111111110000001111000000011111001110111111101111\n"
     ]
    }
   ],
   "source": [
    "# бинарное представление строки\n",
    "textbin = ''.join([bin(ord(c))[2:] for c in text]) \n",
    "\n",
    "l1 = LRS(textbin, 89, [0, 3, 5, 6, 89])\n",
    "l2 = LRS(textbin, 91, [0, 1, 5, 8, 91])\n",
    "\n",
    "# формирование выходной последовательности\n",
    "result = ''\n",
    "for _ in range(91):\n",
    "    v = l2.i_bit(89) | l2.i_bit(91)\n",
    "    g = l2.i_bit(20) ^ v\n",
    "    result = result + str(g)\n",
    "    shiftbit = l1.i_bit(20)\n",
    "    if shiftbit == 1:\n",
    "        l2.rotate()\n",
    "    l1.rotate()\n",
    "print(\"Для слова \\\"{}\\\" итоговым кодом будет \\n {}\".format(text, result))"
   ]
  }
 ],
 "metadata": {
  "kernelspec": {
   "display_name": "Python 3",
   "language": "python",
   "name": "python3"
  },
  "language_info": {
   "codemirror_mode": {
    "name": "ipython",
    "version": 3
   },
   "file_extension": ".py",
   "mimetype": "text/x-python",
   "name": "python",
   "nbconvert_exporter": "python",
   "pygments_lexer": "ipython3",
   "version": "3.9.2"
  }
 },
 "nbformat": 4,
 "nbformat_minor": 4
}
